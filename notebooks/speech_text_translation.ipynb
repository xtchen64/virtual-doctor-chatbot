{
  "cells": [
    {
      "cell_type": "markdown",
      "metadata": {
        "id": "view-in-github",
        "colab_type": "text"
      },
      "source": [
        "<a href=\"https://colab.research.google.com/github/xtchen64/virtual-doctor-chatbot/blob/main/notebooks/speech_text_translation.ipynb\" target=\"_parent\"><img src=\"https://colab.research.google.com/assets/colab-badge.svg\" alt=\"Open In Colab\"/></a>"
      ]
    },
    {
      "cell_type": "markdown",
      "source": [
        "# Speech Text Translation\n",
        "Author: Elaine Chen  \n",
        "Date Created: 11/24/2023  \n",
        "Last Modified: 11/24/2023  \n",
        "\n",
        "This notebook experiments with text-to-speech (TTS) and speech-to-text (STT)."
      ],
      "metadata": {
        "id": "imblqeeJCFWz"
      }
    },
    {
      "cell_type": "code",
      "source": [
        "pip install SpeechRecognition gtts"
      ],
      "metadata": {
        "colab": {
          "base_uri": "https://localhost:8080/"
        },
        "id": "bR3od74BCjyx",
        "outputId": "95bc99e4-6bcb-4919-c7a0-599becda0053"
      },
      "execution_count": 4,
      "outputs": [
        {
          "output_type": "stream",
          "name": "stdout",
          "text": [
            "Requirement already satisfied: SpeechRecognition in /usr/local/lib/python3.10/dist-packages (3.10.0)\n",
            "Collecting gtts\n",
            "  Downloading gTTS-2.4.0-py3-none-any.whl (29 kB)\n",
            "Requirement already satisfied: requests>=2.26.0 in /usr/local/lib/python3.10/dist-packages (from SpeechRecognition) (2.31.0)\n",
            "Requirement already satisfied: click<8.2,>=7.1 in /usr/local/lib/python3.10/dist-packages (from gtts) (8.1.7)\n",
            "Requirement already satisfied: charset-normalizer<4,>=2 in /usr/local/lib/python3.10/dist-packages (from requests>=2.26.0->SpeechRecognition) (3.3.2)\n",
            "Requirement already satisfied: idna<4,>=2.5 in /usr/local/lib/python3.10/dist-packages (from requests>=2.26.0->SpeechRecognition) (3.4)\n",
            "Requirement already satisfied: urllib3<3,>=1.21.1 in /usr/local/lib/python3.10/dist-packages (from requests>=2.26.0->SpeechRecognition) (2.0.7)\n",
            "Requirement already satisfied: certifi>=2017.4.17 in /usr/local/lib/python3.10/dist-packages (from requests>=2.26.0->SpeechRecognition) (2023.7.22)\n",
            "Installing collected packages: gtts\n",
            "Successfully installed gtts-2.4.0\n"
          ]
        }
      ]
    },
    {
      "cell_type": "code",
      "source": [
        "# import libraries\n",
        "import os\n",
        "from google.colab import drive\n",
        "from gtts import gTTS  # TTS\n",
        "import speech_recognition as sr  # STT\n",
        "from IPython.display import Audio  # for playing audio on collab"
      ],
      "metadata": {
        "id": "pb1PBXKnCr9U"
      },
      "execution_count": 8,
      "outputs": []
    },
    {
      "cell_type": "code",
      "source": [
        "# mount google drive\n",
        "drive.mount('/content/drive')"
      ],
      "metadata": {
        "colab": {
          "base_uri": "https://localhost:8080/"
        },
        "id": "kDmL0G_KE1jy",
        "outputId": "9b015d45-4502-4c91-a7e1-cbf8b352b4a2"
      },
      "execution_count": 7,
      "outputs": [
        {
          "output_type": "stream",
          "name": "stdout",
          "text": [
            "Mounted at /content/drive\n"
          ]
        }
      ]
    },
    {
      "cell_type": "markdown",
      "source": [
        "## 1. Text-to-speech (TTS)"
      ],
      "metadata": {
        "id": "_VqU93BFCRTM"
      }
    },
    {
      "cell_type": "code",
      "source": [
        "def text_to_speech(my_text):\n",
        "    \"\"\"\n",
        "    Convert text to speech\n",
        "    \"\"\"\n",
        "    # Language in which you want to convert\n",
        "    language = 'en'\n",
        "\n",
        "    # Passing the text and language to the engine\n",
        "    myobj = gTTS(text=my_text, lang=language, slow=False)\n",
        "\n",
        "    # Return audio object\n",
        "    return myobj"
      ],
      "metadata": {
        "id": "D7GUIGdrD5G3"
      },
      "execution_count": 9,
      "outputs": []
    },
    {
      "cell_type": "code",
      "source": [
        "# Text to be spoken\n",
        "text = \"Hello, I'm your virtual doctor. How can I help you today?\"\n",
        "audio_object = text_to_speech(text)\n",
        "\n",
        "# Saving the converted audio in an mp3 file\n",
        "audio_path = '/content/drive/My Drive/project/virtualDoctorChatbot/test_aud.mp3'\n",
        "audio_object.save(audio_path)\n",
        "\n",
        "# Playing the converted file\n",
        "Audio(audio_path)"
      ],
      "metadata": {
        "colab": {
          "base_uri": "https://localhost:8080/",
          "height": 75
        },
        "id": "4uAq3W_BDQ79",
        "outputId": "43bc3008-7e03-46e3-fd5e-8a148212f493"
      },
      "execution_count": 10,
      "outputs": [
        {
          "output_type": "execute_result",
          "data": {
            "text/plain": [
              "<IPython.lib.display.Audio object>"
            ],
            "text/html": [
              "\n",
              "                <audio  controls=\"controls\" >\n",
              "                    <source src=\"data:audio/mpeg;base64,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\" type=\"audio/mpeg\" />\n",
              "                    Your browser does not support the audio element.\n",
              "                </audio>\n",
              "              "
            ]
          },
          "metadata": {},
          "execution_count": 10
        }
      ]
    },
    {
      "cell_type": "code",
      "source": [
        "\"\"\"\n",
        "Run below code if using local notebook\n",
        "\"\"\"\n",
        "# local_audio_path = ''  # Update this path\n",
        "# os.system(local_audio_path)"
      ],
      "metadata": {
        "id": "PdDSYk1tDQ0R"
      },
      "execution_count": null,
      "outputs": []
    },
    {
      "cell_type": "code",
      "source": [],
      "metadata": {
        "id": "MJhRzQ_zDP1q"
      },
      "execution_count": 5,
      "outputs": []
    },
    {
      "cell_type": "code",
      "source": [
        "# Initialize the recognizer\n",
        "r = sr.Recognizer()\n",
        "\n",
        "# Reading Audio file as source\n",
        "# listening the audio file and store in audio_text variable\n",
        "with sr.AudioFile('path_to_your_audio_file.wav') as source:\n",
        "    audio_text = r.listen(source)\n",
        "\n",
        "# Recoginize speech using Google Speech Recognition\n",
        "try:\n",
        "    # Using google speech recognition\n",
        "    print(\"Text: \" + r.recognize_google(audio_text))\n",
        "except:\n",
        "     print(\"Sorry, I did not get that\")"
      ],
      "metadata": {
        "id": "v90y8yVBCRAX"
      },
      "execution_count": null,
      "outputs": []
    },
    {
      "cell_type": "code",
      "execution_count": null,
      "metadata": {
        "id": "7mzmrBeUCAXF"
      },
      "outputs": [],
      "source": []
    }
  ],
  "metadata": {
    "language_info": {
      "name": "python"
    },
    "colab": {
      "provenance": [],
      "include_colab_link": true
    },
    "kernelspec": {
      "name": "python3",
      "display_name": "Python 3"
    }
  },
  "nbformat": 4,
  "nbformat_minor": 0
}