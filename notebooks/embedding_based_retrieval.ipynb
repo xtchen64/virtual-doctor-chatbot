{
  "cells": [
    {
      "cell_type": "markdown",
      "metadata": {
        "id": "view-in-github",
        "colab_type": "text"
      },
      "source": [
        "<a href=\"https://colab.research.google.com/github/xtchen64/virtual-doctor-chatbot/blob/main/notebooks/embedding_based_retrieval.ipynb\" target=\"_parent\"><img src=\"https://colab.research.google.com/assets/colab-badge.svg\" alt=\"Open In Colab\"/></a>"
      ]
    },
    {
      "cell_type": "markdown",
      "source": [
        "## Embedding Based Retrieval\n",
        "\n",
        "Written By: Qingyang Xu  \n",
        "Date Created: 11/24/2023  \n",
        "Last Modified: 12/28/2023  \n",
        "\n",
        "### Overview\n",
        "\n",
        "- Section 1. Test embedding-based retrieval tool `DONE`\n",
        "\n",
        "  - Faiss: https://github.com/facebookresearch/faiss\n",
        "\n",
        "- Section 2. Test Word2Vec using BERT `DONE`\n",
        "\n",
        "  - BERT: https://huggingface.co/transformers/v3.0.2/installation.html\n",
        "\n",
        "- Section 3. Test embedding-based retrieval of symptoms `IN PROGRESS`\n",
        "\n",
        "- ChatGPT: https://chat.openai.com/c/0d8e22b6-d86c-476f-8c02-2663f6eb0444\n",
        "\n",
        "## Section 1. Test embedding-based retrieval tool `DONE`\n",
        "\n",
        "- Reproduce sanity check results in https://github.com/facebookresearch/faiss/wiki/Getting-started"
      ],
      "metadata": {
        "id": "5ROGW5YQGedS"
      }
    },
    {
      "cell_type": "code",
      "execution_count": null,
      "metadata": {
        "id": "2X4ufMoEF-nC"
      },
      "outputs": [],
      "source": [
        "### Faiss\n",
        "!pip install faiss-gpu"
      ]
    },
    {
      "cell_type": "code",
      "source": [
        "import numpy as np\n",
        "\n",
        "d = 64                           # dimension\n",
        "nb = 100000                      # database size\n",
        "nq = 10000                       # nb of queries\n",
        "np.random.seed(1234)             # make reproducible\n",
        "xb = np.random.random((nb, d)).astype('float32')\n",
        "xb[:, 0] += np.arange(nb) / 1000.\n",
        "xq = np.random.random((nq, d)).astype('float32')\n",
        "xq[:, 0] += np.arange(nq) / 1000."
      ],
      "metadata": {
        "id": "JRfYBY0KGBLY"
      },
      "execution_count": null,
      "outputs": []
    },
    {
      "cell_type": "code",
      "source": [
        "import faiss                   # make faiss available\n",
        "\n",
        "index = faiss.IndexFlatL2(d)   # build the index\n",
        "print(index.is_trained)\n",
        "index.add(xb)                  # add vectors to the index\n",
        "print(index.ntotal)"
      ],
      "metadata": {
        "id": "G7gj7NNwLSQv"
      },
      "execution_count": null,
      "outputs": []
    },
    {
      "cell_type": "code",
      "source": [
        "k = 4                          # we want to see 4 nearest neighbors\n",
        "D, I = index.search(xb[:5], k) # sanity check\n",
        "print(I)\n",
        "print(D)\n",
        "D, I = index.search(xq, k)     # actual search\n",
        "print(\"neighbors of the 5 first queries\")\n",
        "print(I[:5])                   # neighbors of the 5 first queries\n",
        "\n",
        "print(\"neighbors of the 5 last queries\")\n",
        "print(I[-5:])                  # neighbors of the 5 last queries"
      ],
      "metadata": {
        "id": "4i7LEYorLVnr"
      },
      "execution_count": null,
      "outputs": []
    },
    {
      "cell_type": "markdown",
      "source": [
        "## Section 2. Test Word2Vec using BERT `DONE`"
      ],
      "metadata": {
        "id": "KNDkjIW3NN1s"
      }
    },
    {
      "cell_type": "code",
      "source": [
        "!pip install transformers"
      ],
      "metadata": {
        "id": "ZO5OY-v_MDA1"
      },
      "execution_count": null,
      "outputs": []
    },
    {
      "cell_type": "code",
      "source": [
        "from transformers import BertTokenizer, BertModel\n",
        "import torch\n",
        "\n",
        "# Load pre-trained BERT model and tokenizer\n",
        "model_name = 'bert-base-uncased'\n",
        "tokenizer = BertTokenizer.from_pretrained(model_name)\n",
        "model = BertModel.from_pretrained(model_name)\n",
        "\n",
        "# Input text for inference\n",
        "input_text = \"I have a high fever.\"\n",
        "\n",
        "# Tokenize and encode the input text\n",
        "tokens = tokenizer.encode(input_text, add_special_tokens=True)\n",
        "input_ids = torch.tensor(tokens).unsqueeze(0)  # Add batch dimension"
      ],
      "metadata": {
        "id": "lXy3A1WyMC4U"
      },
      "execution_count": null,
      "outputs": []
    },
    {
      "cell_type": "code",
      "source": [
        "print(f\"tokens: {tokens}\")"
      ],
      "metadata": {
        "id": "WKaLfg2xLvXH"
      },
      "execution_count": null,
      "outputs": []
    },
    {
      "cell_type": "code",
      "source": [
        "# Forward pass through the BERT model\n",
        "with torch.no_grad():\n",
        "    outputs = model(input_ids)"
      ],
      "metadata": {
        "id": "fi5kBETsNhKp"
      },
      "execution_count": null,
      "outputs": []
    },
    {
      "cell_type": "code",
      "source": [
        "# Get the embeddings or logits from the BERT model\n",
        "last_hidden_states = outputs.last_hidden_state\n",
        "\n",
        "# For classification tasks, you might use the pooler output\n",
        "pooler_output = outputs.pooler_output\n",
        "\n",
        "# Convert PyTorch tensor to numpy array for further processing if needed\n",
        "numpy_output = last_hidden_states.numpy()\n",
        "\n",
        "# Print or use the results as needed\n",
        "print(\"Embeddings shape:\", last_hidden_states.shape)\n",
        "print(\"Pooler output shape:\", pooler_output.shape)"
      ],
      "metadata": {
        "id": "uMMn1oJRN9GX"
      },
      "execution_count": null,
      "outputs": []
    },
    {
      "cell_type": "markdown",
      "source": [
        "## Section 3. Test symptom embedding using ClinicalBERT `DONE`\n",
        "\n",
        "- ClinicalBERT: Modeling Clinical Notes and Predicting Hospital Readmission\n",
        "\n",
        "\n",
        "---\n",
        "\n"
      ],
      "metadata": {
        "id": "NiYIoItSDv6u"
      }
    },
    {
      "cell_type": "code",
      "source": [
        "!pip install transformers"
      ],
      "metadata": {
        "id": "Q8nEIww2Ddvw"
      },
      "execution_count": null,
      "outputs": []
    },
    {
      "cell_type": "code",
      "source": [
        "import numpy as np\n",
        "import torch\n",
        "from transformers import BertModel, BertTokenizer\n",
        "from transformers import AutoTokenizer, AutoModel\n",
        "import torch.nn.functional as F"
      ],
      "metadata": {
        "id": "gX-9-hSMMTTe"
      },
      "execution_count": null,
      "outputs": []
    },
    {
      "cell_type": "code",
      "source": [
        "bert_model = \"medicalai/ClinicalBERT\"\n",
        "\n",
        "if bert_model == \"medicalai/ClinicalBERT\":\n",
        "  # Load pre-trained ClinicalBERT tokenizer and model\n",
        "  tokenizer = AutoTokenizer.from_pretrained(\"medicalai/ClinicalBERT\")\n",
        "  model = AutoModel.from_pretrained(\"medicalai/ClinicalBERT\")\n",
        "elif bert_model == \"bert-base-uncased\":\n",
        "  # Load pre-trained model tokenizer and model\n",
        "  tokenizer = BertTokenizer.from_pretrained('bert-base-uncased')\n",
        "  model = BertModel.from_pretrained('bert-base-uncased')\n",
        "else:\n",
        "  raise ValueError(f\"Please input a valid BERT model ID {bert_model}\")\n",
        "\n",
        "# Function to encode text to embeddings\n",
        "def encode_text(text):\n",
        "    inputs = tokenizer(text, return_tensors='pt', padding=True, truncation=True)\n",
        "    with torch.no_grad():\n",
        "      outputs = model(**inputs)\n",
        "    return outputs.last_hidden_state.mean(dim=1)"
      ],
      "metadata": {
        "id": "ev4-zK_dHUQx"
      },
      "execution_count": null,
      "outputs": []
    },
    {
      "cell_type": "code",
      "source": [
        "# List of medical symptoms\n",
        "symptoms = [\"shortness of breath\", \"fever\", \"cough\", \"fatigue\", \"sleeplessness\"]\n",
        "# Target symptom\n",
        "target_symptom = \"insomnia\"\n",
        "\n",
        "# Encode the symptoms and the target symptom\n",
        "symptom_embeddings = torch.stack([encode_text(symptom) for symptom in symptoms])\n",
        "target_embedding = encode_text(target_symptom)\n",
        "\n",
        "# Check the shapes of the embeddings\n",
        "print(f\"Symptom Embeddings Shape: {symptom_embeddings.shape}\")\n",
        "print(f\"Target Embedding Shape: {target_embedding.shape}\")\n",
        "\n",
        "# Calculate cosine similarities\n",
        "cosine_similarities = F.cosine_similarity(symptom_embeddings.squeeze(), target_embedding)\n",
        "\n",
        "# Debugging information\n",
        "print(f\"Cosine Similarities: {cosine_similarities}\")\n",
        "\n",
        "# Find the best match\n",
        "best_match_score = torch.max(cosine_similarities)\n",
        "print(f\"Best Match Score: {best_match_score}\")\n",
        "\n",
        "# Find the best match index\n",
        "best_match_index = torch.argmax(cosine_similarities).item()\n",
        "print(f\"Best Match Index: {best_match_index}\")\n",
        "\n",
        "best_match_symptom = symptoms[best_match_index]\n",
        "print(f\"The symptom most similar to '{target_symptom}' is '{best_match_symptom}'.\")"
      ],
      "metadata": {
        "id": "5O1MKgMEKDm7"
      },
      "execution_count": null,
      "outputs": []
    },
    {
      "cell_type": "code",
      "source": [
        "diseases = {\n",
        "    \"Panic disorder\": ['Anxiety and nervousness', 'Depression', 'Shortness of breath', 'Depressive or psychotic symptoms', 'Sharp chest pain', 'Dizziness', 'Insomnia', 'Abnormal involuntary movements', 'Chest tightness', 'Palpitations', 'Irregular heartbeat', 'Breathing fast'],\n",
        "    \"Vocal cord polyp\": ['Hoarse voice', 'Sore throat', 'Difficulty speaking', 'Cough', 'Nasal congestion', 'Throat swelling', 'Diminished hearing', 'Lump in throat', 'Throat feels tight', 'Difficulty in swallowing', 'Skin swelling', 'Retention of urine'],\n",
        "    \"Turner syndrome\": ['Groin mass', 'Leg pain', 'Hip pain', 'Suprapubic pain', 'Blood in stool', 'Lack of growth', 'Diminished hearing', 'Depression', 'Emotional symptoms', 'Elbow weakness', 'Back weakness', 'Pus in sputum'],\n",
        "    \"Cryptorchidism\": ['Symptoms of the scrotum and testes', 'Swelling of scrotum', 'Pain in testicles', 'Flatulence', 'Pus draining from ear', 'Jaundice', 'Mass in scrotum', 'Lack of growth', 'White discharge from eye', 'Irritable infant'],\n",
        "    \"Poisoning due to ethylene glycol\": ['Abusing alcohol', 'Fainting', 'Hostile behavior', 'Drug abuse', 'Depressive or psychotic symptoms', 'Sharp abdominal pain', 'Feeling ill', 'Vomiting', 'Headache', 'Depression', 'Nausea', 'Diarrhea'],\n",
        "    \"Atrophic vaginitis\": ['Vaginal itching', 'Vaginal dryness', 'Painful urination', 'Involuntary urination', 'Pain during intercourse', 'Frequent urination', 'Lower abdominal pain', 'Suprapubic pain', 'Vaginal discharge', 'Blood in urine', 'Hot flashes', 'Intermenstrual bleeding'],\n",
        "    \"Fracture of the hand\": ['Hand or finger pain', 'Wrist pain', 'Hand or finger swelling', 'Arm pain', 'Wrist swelling', 'Arm stiffness or tightness', 'Arm swelling', 'Hand or finger stiffness or tightness', 'Wrist stiffness or tightness'],\n",
        "    \"Cellulitis or abscess of mouth\": ['Lip swelling', 'Sore throat', 'Toothache', 'Abnormal appearing skin', 'Skin lesion', 'Difficulty in swallowing', 'Acne or pimples', 'Dry lips', 'Facial pain', 'Mouth ulcer', 'Throat swelling', 'Skin growth'],\n",
        "}"
      ],
      "metadata": {
        "id": "0iJL8IV7Jh2v"
      },
      "execution_count": null,
      "outputs": []
    },
    {
      "cell_type": "code",
      "source": [
        "def compute_symptom_matching_score(patient_symptoms, disease_symptoms, verbose=False):\n",
        "\n",
        "  # Encode the patient and disease symptoms\n",
        "  disease_symptom_embeddings = torch.stack([encode_text(symptom) for symptom in disease_symptoms])\n",
        "\n",
        "  average_matching_score = 0\n",
        "\n",
        "  for target_symptom in patient_symptoms:\n",
        "\n",
        "    target_embedding = encode_text(target_symptom)\n",
        "\n",
        "    # Check the shapes of the embeddings\n",
        "    #print(f\"Target Embedding Shape: {target_embedding.shape}\")\n",
        "\n",
        "    # Calculate cosine similarities\n",
        "    cosine_similarities = F.cosine_similarity(disease_symptom_embeddings.squeeze(), target_embedding)\n",
        "\n",
        "    # Debugging information\n",
        "    #print(f\"Cosine Similarities: {cosine_similarities}\")\n",
        "\n",
        "    # Find the best match\n",
        "    best_match_score = torch.max(cosine_similarities).numpy()\n",
        "    #print(f\"Best Match Score: {best_match_score}\")\n",
        "\n",
        "    # Find the best match index\n",
        "    best_match_index = torch.argmax(cosine_similarities).item()\n",
        "    #print(f\"Best Match Index: {best_match_index}\")\n",
        "\n",
        "    best_match_symptom = disease_symptoms[best_match_index]\n",
        "    #print(f\"The symptom most similar to '{target_symptom}' is '{best_match_symptom}'.\")\n",
        "\n",
        "    if verbose:\n",
        "      print(f\"Disease Embedding Shape: {disease_symptom_embeddings.shape}\")\n",
        "      print(f\"Target Embedding Shape: {target_embedding.shape}\")\n",
        "      print(f\"Cosine Similarities: {cosine_similarities}\")\n",
        "      print(f\"Best Match Score: {best_match_score}\")\n",
        "      print(f\"Best Match Index: {best_match_index}\")\n",
        "      print(f\"The symptom most similar to '{target_symptom}' is '{best_match_symptom}'. \\n\")\n",
        "\n",
        "    average_matching_score += best_match_score\n",
        "\n",
        "  average_matching_score /= len(patient_symptoms)\n",
        "\n",
        "  if verbose: print(f\"average_matching_score: {average_matching_score}\")\n",
        "\n",
        "  return average_matching_score"
      ],
      "metadata": {
        "id": "6tgd5XzaNoLw"
      },
      "execution_count": null,
      "outputs": []
    },
    {
      "cell_type": "code",
      "source": [
        "patient_symptoms = ['Anxiety and nervousness', 'Depression', 'Shortness of breath']\n",
        "disease_symptoms = ['Anxiety and nervousness', 'Depression', 'Shortness of breath', 'Depressive or psychotic symptoms']\n",
        "\n",
        "compute_symptom_matching_score(patient_symptoms, disease_symptoms, verbose=True)"
      ],
      "metadata": {
        "id": "cQfU39MTOroU"
      },
      "execution_count": null,
      "outputs": []
    },
    {
      "cell_type": "code",
      "source": [
        "def find_best_diagnosis(patient_symptoms, diseases, verbose=False):\n",
        "\n",
        "  max_matching_score = -np.inf\n",
        "  best_diagnosis = \"None\"\n",
        "\n",
        "  for disease in diseases:\n",
        "    disease_symptoms = diseases[disease]\n",
        "    average_matching_score = compute_symptom_matching_score(patient_symptoms, disease_symptoms)\n",
        "    if verbose:\n",
        "      print(f\"disease: {disease}\")\n",
        "      print(f\"average_matching_score: {average_matching_score} \\n\")\n",
        "\n",
        "    if average_matching_score > max_matching_score:\n",
        "      max_matching_score = average_matching_score\n",
        "      best_diagnosis = disease\n",
        "\n",
        "  if verbose:\n",
        "    print(f\"best_diagnosis: {best_diagnosis}\")\n",
        "    print(f\"max_matching_score: {max_matching_score}\")\n",
        "\n",
        "  return best_diagnosis"
      ],
      "metadata": {
        "id": "oSpGVbxAOvfB"
      },
      "execution_count": null,
      "outputs": []
    },
    {
      "cell_type": "code",
      "source": [
        "find_best_diagnosis(patient_symptoms, diseases, verbose=True)"
      ],
      "metadata": {
        "id": "A3AtBZKHRVHo"
      },
      "execution_count": null,
      "outputs": []
    },
    {
      "cell_type": "code",
      "source": [],
      "metadata": {
        "id": "IBKltGADiNyJ"
      },
      "execution_count": null,
      "outputs": []
    },
    {
      "cell_type": "code",
      "source": [],
      "metadata": {
        "id": "hpBZaqdkiOoe"
      },
      "execution_count": null,
      "outputs": []
    },
    {
      "cell_type": "code",
      "source": [
        "!pip install transformers"
      ],
      "metadata": {
        "colab": {
          "base_uri": "https://localhost:8080/"
        },
        "id": "GP5Kp4zliOgg",
        "outputId": "c49b5ede-69a0-44be-e786-edc9945a7220"
      },
      "execution_count": 1,
      "outputs": [
        {
          "output_type": "stream",
          "name": "stdout",
          "text": [
            "Requirement already satisfied: transformers in /usr/local/lib/python3.10/dist-packages (4.35.2)\n",
            "Requirement already satisfied: filelock in /usr/local/lib/python3.10/dist-packages (from transformers) (3.13.1)\n",
            "Requirement already satisfied: huggingface-hub<1.0,>=0.16.4 in /usr/local/lib/python3.10/dist-packages (from transformers) (0.19.4)\n",
            "Requirement already satisfied: numpy>=1.17 in /usr/local/lib/python3.10/dist-packages (from transformers) (1.23.5)\n",
            "Requirement already satisfied: packaging>=20.0 in /usr/local/lib/python3.10/dist-packages (from transformers) (23.2)\n",
            "Requirement already satisfied: pyyaml>=5.1 in /usr/local/lib/python3.10/dist-packages (from transformers) (6.0.1)\n",
            "Requirement already satisfied: regex!=2019.12.17 in /usr/local/lib/python3.10/dist-packages (from transformers) (2023.6.3)\n",
            "Requirement already satisfied: requests in /usr/local/lib/python3.10/dist-packages (from transformers) (2.31.0)\n",
            "Requirement already satisfied: tokenizers<0.19,>=0.14 in /usr/local/lib/python3.10/dist-packages (from transformers) (0.15.0)\n",
            "Requirement already satisfied: safetensors>=0.3.1 in /usr/local/lib/python3.10/dist-packages (from transformers) (0.4.1)\n",
            "Requirement already satisfied: tqdm>=4.27 in /usr/local/lib/python3.10/dist-packages (from transformers) (4.66.1)\n",
            "Requirement already satisfied: fsspec>=2023.5.0 in /usr/local/lib/python3.10/dist-packages (from huggingface-hub<1.0,>=0.16.4->transformers) (2023.6.0)\n",
            "Requirement already satisfied: typing-extensions>=3.7.4.3 in /usr/local/lib/python3.10/dist-packages (from huggingface-hub<1.0,>=0.16.4->transformers) (4.5.0)\n",
            "Requirement already satisfied: charset-normalizer<4,>=2 in /usr/local/lib/python3.10/dist-packages (from requests->transformers) (3.3.2)\n",
            "Requirement already satisfied: idna<4,>=2.5 in /usr/local/lib/python3.10/dist-packages (from requests->transformers) (3.6)\n",
            "Requirement already satisfied: urllib3<3,>=1.21.1 in /usr/local/lib/python3.10/dist-packages (from requests->transformers) (2.0.7)\n",
            "Requirement already satisfied: certifi>=2017.4.17 in /usr/local/lib/python3.10/dist-packages (from requests->transformers) (2023.11.17)\n"
          ]
        }
      ]
    },
    {
      "cell_type": "code",
      "source": [
        "import numpy as np\n",
        "import torch\n",
        "from transformers import BertModel, BertTokenizer\n",
        "from transformers import AutoTokenizer, AutoModel\n",
        "import torch.nn.functional as F\n",
        "\n",
        "#BERT_MODEL_ID = \"medicalai/ClinicalBERT\"\n",
        "BERT_MODEL_ID = \"bert-base-uncased\"\n",
        "\n",
        "DISEASES = {\n",
        "    \"Panic disorder\": ['Anxiety and nervousness', 'Depression', 'Shortness of breath', 'Depressive or psychotic symptoms', 'Sharp chest pain', 'Dizziness', 'Insomnia', 'Abnormal involuntary movements', 'Chest tightness', 'Palpitations', 'Irregular heartbeat', 'Breathing fast'],\n",
        "    \"Vocal cord polyp\": ['Hoarse voice', 'Sore throat', 'Difficulty speaking', 'Cough', 'Nasal congestion', 'Throat swelling', 'Diminished hearing', 'Lump in throat', 'Throat feels tight', 'Difficulty in swallowing', 'Skin swelling', 'Retention of urine'],\n",
        "    \"Turner syndrome\": ['Groin mass', 'Leg pain', 'Hip pain', 'Suprapubic pain', 'Blood in stool', 'Lack of growth', 'Diminished hearing', 'Depression', 'Emotional symptoms', 'Elbow weakness', 'Back weakness', 'Pus in sputum'],\n",
        "    \"Cryptorchidism\": ['Symptoms of the scrotum and testes', 'Swelling of scrotum', 'Pain in testicles', 'Flatulence', 'Pus draining from ear', 'Jaundice', 'Mass in scrotum', 'Lack of growth', 'White discharge from eye', 'Irritable infant'],\n",
        "    \"Poisoning due to ethylene glycol\": ['Abusing alcohol', 'Fainting', 'Hostile behavior', 'Drug abuse', 'Depressive or psychotic symptoms', 'Sharp abdominal pain', 'Feeling ill', 'Vomiting', 'Headache', 'Depression', 'Nausea', 'Diarrhea'],\n",
        "    \"Atrophic vaginitis\": ['Vaginal itching', 'Vaginal dryness', 'Painful urination', 'Involuntary urination', 'Pain during intercourse', 'Frequent urination', 'Lower abdominal pain', 'Suprapubic pain', 'Vaginal discharge', 'Blood in urine', 'Hot flashes', 'Intermenstrual bleeding'],\n",
        "    \"Fracture of the hand\": ['Hand or finger pain', 'Wrist pain', 'Hand or finger swelling', 'Arm pain', 'Wrist swelling', 'Arm stiffness or tightness', 'Arm swelling', 'Hand or finger stiffness or tightness', 'Wrist stiffness or tightness'],\n",
        "    \"Cellulitis or abscess of mouth\": ['Lip swelling', 'Sore throat', 'Toothache', 'Abnormal appearing skin', 'Skin lesion', 'Difficulty in swallowing', 'Acne or pimples', 'Dry lips', 'Facial pain', 'Mouth ulcer', 'Throat swelling', 'Skin growth'],\n",
        "}\n",
        "\n",
        "print(f\"Loading BERT model: {BERT_MODEL_ID}\")\n",
        "\n",
        "if BERT_MODEL_ID == \"medicalai/ClinicalBERT\":\n",
        "  # Load pre-trained ClinicalBERT tokenizer and model\n",
        "  tokenizer = AutoTokenizer.from_pretrained(\"medicalai/ClinicalBERT\")\n",
        "  model = AutoModel.from_pretrained(\"medicalai/ClinicalBERT\")\n",
        "elif BERT_MODEL_ID == \"bert-base-uncased\":\n",
        "  # Load pre-trained model tokenizer and model\n",
        "  tokenizer = BertTokenizer.from_pretrained('bert-base-uncased')\n",
        "  model = BertModel.from_pretrained('bert-base-uncased')\n",
        "else:\n",
        "  raise ValueError(f\"Please input a valid BERT model ID {BERT_MODEL_ID}\")\n",
        "\n",
        "print(f\"Loaded BERT model: {BERT_MODEL_ID}\")\n",
        "\n",
        "# Function to encode text to embeddings\n",
        "def encode_text(text):\n",
        "    inputs = tokenizer(text, return_tensors='pt', padding=True, truncation=False)\n",
        "    with torch.no_grad():\n",
        "      outputs = model(**inputs)\n",
        "    return outputs.last_hidden_state.mean(dim=1)\n",
        "\n",
        "# Function to compute the average matching score between patient and disease symptoms\n",
        "def compute_symptom_matching_score(patient_symptoms, disease_symptoms, verbose=False):\n",
        "\n",
        "  print(f\"patient_symptoms: {patient_symptoms}\")\n",
        "  print(f\"disease_symptoms: {disease_symptoms}\")\n",
        "\n",
        "  average_matching_score = 0\n",
        "\n",
        "  disease_symptom_embeddings = torch.stack([encode_text(symptom) for symptom in disease_symptoms])\n",
        "\n",
        "  for target_symptom in patient_symptoms:\n",
        "\n",
        "    with torch.no_grad():\n",
        "        target_embedding = encode_text(target_symptom)\n",
        "        cosine_similarities = F.cosine_similarity(disease_symptom_embeddings.squeeze(), target_embedding)\n",
        "\n",
        "    # Find the best match\n",
        "    best_match_score = torch.max(cosine_similarities).numpy()\n",
        "\n",
        "    if verbose:\n",
        "      print(f\"Disease Embedding Shape: {disease_symptom_embeddings.shape}\")\n",
        "      print(f\"Target Embedding Shape: {target_embedding.shape}\")\n",
        "      print(f\"Cosine Similarities: {cosine_similarities}\")\n",
        "      print(f\"Best Match Score: {best_match_score}\")\n",
        "\n",
        "    average_matching_score += best_match_score\n",
        "\n",
        "  average_matching_score /= len(patient_symptoms)\n",
        "\n",
        "  if verbose: print(f\"average_matching_score: {average_matching_score}\")\n",
        "\n",
        "  return average_matching_score\n",
        "\n",
        "# Function to find the best diagnosis to match patient symptoms\n",
        "def find_best_diagnosis(patient_symptoms, verbose=False):\n",
        "\n",
        "  print(f\"patient_symptoms: {patient_symptoms}\")\n",
        "\n",
        "  max_matching_score = -np.inf\n",
        "  best_diagnosis = \"None\"\n",
        "\n",
        "  for disease in DISEASES:\n",
        "    disease_symptoms = DISEASES[disease]\n",
        "    average_matching_score = compute_symptom_matching_score(patient_symptoms, disease_symptoms, verbose=False)\n",
        "    if verbose:\n",
        "      print(f\"disease: {disease}\")\n",
        "      print(f\"average_matching_score: {average_matching_score} \\n\")\n",
        "\n",
        "    if average_matching_score > max_matching_score:\n",
        "      max_matching_score = average_matching_score\n",
        "      best_diagnosis = disease\n",
        "\n",
        "  if verbose:\n",
        "    print(f\"best_diagnosis: {best_diagnosis}\")\n",
        "    print(f\"max_matching_score: {max_matching_score} \\n\")\n",
        "\n",
        "  return best_diagnosis, max_matching_score"
      ],
      "metadata": {
        "colab": {
          "base_uri": "https://localhost:8080/"
        },
        "id": "tNbQ4nEURWuy",
        "outputId": "da1122c0-cd14-4ff2-f3f1-9f29fc32f230"
      },
      "execution_count": 5,
      "outputs": [
        {
          "output_type": "stream",
          "name": "stdout",
          "text": [
            "Loading BERT model: bert-base-uncased\n",
            "Loaded BERT model: bert-base-uncased\n"
          ]
        }
      ]
    },
    {
      "cell_type": "code",
      "source": [
        "patient_symptoms = ['Hoarse voice', 'Sore throat', 'Difficulty speaking']\n",
        "find_best_diagnosis(patient_symptoms, verbose=True)"
      ],
      "metadata": {
        "colab": {
          "base_uri": "https://localhost:8080/"
        },
        "id": "hXgCy6QqidY_",
        "outputId": "641def92-ce01-4b26-d042-9dd75f4a0436"
      },
      "execution_count": 7,
      "outputs": [
        {
          "output_type": "stream",
          "name": "stdout",
          "text": [
            "patient_symptoms: ['Hoarse voice', 'Sore throat', 'Difficulty speaking']\n",
            "patient_symptoms: ['Hoarse voice', 'Sore throat', 'Difficulty speaking']\n",
            "disease_symptoms: ['Anxiety and nervousness', 'Depression', 'Shortness of breath', 'Depressive or psychotic symptoms', 'Sharp chest pain', 'Dizziness', 'Insomnia', 'Abnormal involuntary movements', 'Chest tightness', 'Palpitations', 'Irregular heartbeat', 'Breathing fast']\n",
            "disease: Panic disorder\n",
            "average_matching_score: 0.7782222032546997 \n",
            "\n",
            "patient_symptoms: ['Hoarse voice', 'Sore throat', 'Difficulty speaking']\n",
            "disease_symptoms: ['Hoarse voice', 'Sore throat', 'Difficulty speaking', 'Cough', 'Nasal congestion', 'Throat swelling', 'Diminished hearing', 'Lump in throat', 'Throat feels tight', 'Difficulty in swallowing', 'Skin swelling', 'Retention of urine']\n",
            "disease: Vocal cord polyp\n",
            "average_matching_score: 0.999999980131785 \n",
            "\n",
            "patient_symptoms: ['Hoarse voice', 'Sore throat', 'Difficulty speaking']\n",
            "disease_symptoms: ['Groin mass', 'Leg pain', 'Hip pain', 'Suprapubic pain', 'Blood in stool', 'Lack of growth', 'Diminished hearing', 'Depression', 'Emotional symptoms', 'Elbow weakness', 'Back weakness', 'Pus in sputum']\n",
            "disease: Turner syndrome\n",
            "average_matching_score: 0.804316242535909 \n",
            "\n",
            "patient_symptoms: ['Hoarse voice', 'Sore throat', 'Difficulty speaking']\n",
            "disease_symptoms: ['Symptoms of the scrotum and testes', 'Swelling of scrotum', 'Pain in testicles', 'Flatulence', 'Pus draining from ear', 'Jaundice', 'Mass in scrotum', 'Lack of growth', 'White discharge from eye', 'Irritable infant']\n",
            "disease: Cryptorchidism\n",
            "average_matching_score: 0.6809927423795065 \n",
            "\n",
            "patient_symptoms: ['Hoarse voice', 'Sore throat', 'Difficulty speaking']\n",
            "disease_symptoms: ['Abusing alcohol', 'Fainting', 'Hostile behavior', 'Drug abuse', 'Depressive or psychotic symptoms', 'Sharp abdominal pain', 'Feeling ill', 'Vomiting', 'Headache', 'Depression', 'Nausea', 'Diarrhea']\n",
            "disease: Poisoning due to ethylene glycol\n",
            "average_matching_score: 0.7946722904841105 \n",
            "\n",
            "patient_symptoms: ['Hoarse voice', 'Sore throat', 'Difficulty speaking']\n",
            "disease_symptoms: ['Vaginal itching', 'Vaginal dryness', 'Painful urination', 'Involuntary urination', 'Pain during intercourse', 'Frequent urination', 'Lower abdominal pain', 'Suprapubic pain', 'Vaginal discharge', 'Blood in urine', 'Hot flashes', 'Intermenstrual bleeding']\n",
            "disease: Atrophic vaginitis\n",
            "average_matching_score: 0.7513787547747294 \n",
            "\n",
            "patient_symptoms: ['Hoarse voice', 'Sore throat', 'Difficulty speaking']\n",
            "disease_symptoms: ['Hand or finger pain', 'Wrist pain', 'Hand or finger swelling', 'Arm pain', 'Wrist swelling', 'Arm stiffness or tightness', 'Arm swelling', 'Hand or finger stiffness or tightness', 'Wrist stiffness or tightness']\n",
            "disease: Fracture of the hand\n",
            "average_matching_score: 0.7517054478327433 \n",
            "\n",
            "patient_symptoms: ['Hoarse voice', 'Sore throat', 'Difficulty speaking']\n",
            "disease_symptoms: ['Lip swelling', 'Sore throat', 'Toothache', 'Abnormal appearing skin', 'Skin lesion', 'Difficulty in swallowing', 'Acne or pimples', 'Dry lips', 'Facial pain', 'Mouth ulcer', 'Throat swelling', 'Skin growth']\n",
            "disease: Cellulitis or abscess of mouth\n",
            "average_matching_score: 0.8751660386721293 \n",
            "\n",
            "best_diagnosis: Vocal cord polyp\n",
            "max_matching_score: 0.999999980131785 \n",
            "\n"
          ]
        },
        {
          "output_type": "execute_result",
          "data": {
            "text/plain": [
              "('Vocal cord polyp', 0.999999980131785)"
            ]
          },
          "metadata": {},
          "execution_count": 7
        }
      ]
    },
    {
      "cell_type": "code",
      "source": [
        "\"'s'ss'ss\".replace(\"'\",\"\")"
      ],
      "metadata": {
        "colab": {
          "base_uri": "https://localhost:8080/",
          "height": 36
        },
        "id": "uAN8fVxciyY9",
        "outputId": "04209b4e-0abb-4d65-c296-a0a42d634fda"
      },
      "execution_count": 9,
      "outputs": [
        {
          "output_type": "execute_result",
          "data": {
            "text/plain": [
              "'sssss'"
            ],
            "application/vnd.google.colaboratory.intrinsic+json": {
              "type": "string"
            }
          },
          "metadata": {},
          "execution_count": 9
        }
      ]
    },
    {
      "cell_type": "code",
      "source": [],
      "metadata": {
        "id": "SDonzqbvuU0_"
      },
      "execution_count": null,
      "outputs": []
    }
  ],
  "metadata": {
    "language_info": {
      "name": "python"
    },
    "colab": {
      "provenance": [],
      "include_colab_link": true
    },
    "kernelspec": {
      "name": "python3",
      "display_name": "Python 3"
    }
  },
  "nbformat": 4,
  "nbformat_minor": 0
}